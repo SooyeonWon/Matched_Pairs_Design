{
 "cells": [
  {
   "cell_type": "markdown",
   "metadata": {},
   "source": [
    "# Project: A/B Test a New Menu Launch (Part3)\n",
    "\n",
    "### by Sooyeon Won\n",
    "\n",
    "### Keywords\n",
    "- Analytical Framework\n",
    "- A/B tests Design and Analysis  \n",
    "- A/B Trend & Seasonality Calculation \n",
    "- Matching treatment and control units "
   ]
  },
  {
   "cell_type": "markdown",
   "metadata": {},
   "source": [
    "## Table of Contents\n",
    "<ul>\n",
    "<li><a href=\"#Intro\">Introduction (Part1)</a></li>\n",
    "<li><a href=\"#Wrangling\">Data Wrangling (Part1)</a></li>\n",
    "<li><a href=\"#Exploration\">Data Exploration (Part2)</a></li>\n",
    "<li><a href=\"#Analysis\">Data Analysis (Part3)</a></li>\n",
    "    - Upload Datasets from the Analysis Part 1 <br>\n",
    "    - Calculate Traffic Trend (**modified**) <br>\n",
    "    - Calculate Traffic Seasonality (**modified**) <br>\n",
    "    - Matching Units<br>\n",
    "    - Analysis with Visualizations\n",
    "    \n",
    "<li><a href=\"#Conclusion\">Conclusion (Part3)</a></li>\n",
    "</ul>"
   ]
  },
  {
   "cell_type": "markdown",
   "metadata": {},
   "source": [
    "## Upload Datasets from the Analysis Part 1"
   ]
  },
  {
   "cell_type": "code",
   "execution_count": 1,
   "metadata": {},
   "outputs": [],
   "source": [
    "# Import the relevant libraries \n",
    "import pandas as pd\n",
    "import numpy as np\n",
    "from sklearn import preprocessing\n",
    "import matplotlib.pyplot as plt \n",
    "plt.rc(\"font\", size=14)\n",
    "from sklearn.linear_model import LogisticRegression\n",
    "from sklearn.model_selection import train_test_split\n",
    "import seaborn as sns\n",
    "sns.set()\n",
    "sns.set(style=\"whitegrid\", color_codes=True)"
   ]
  },
  {
   "cell_type": "code",
   "execution_count": 2,
   "metadata": {},
   "outputs": [],
   "source": [
    "# Load the provided datasets\n",
    "traffic_df = pd.read_csv('traffic_df.csv')\n",
    "weekly_sales_df = pd.read_csv('weekly_sales_df.csv')\n",
    "stores_df = pd.read_csv('stores_df.csv')"
   ]
  },
  {
   "cell_type": "code",
   "execution_count": 3,
   "metadata": {},
   "outputs": [],
   "source": [
    "# Merge the traffic and sales datasets\n",
    "weekly_merged= traffic_df.merge(weekly_sales_df, how= 'inner', \n",
    "                                left_on=['StoreID','Week', 'Week_Start', 'Week_End'], \n",
    "                                right_on=['StoreID','Week', 'Week_Start', 'Week_End'])"
   ]
  },
  {
   "cell_type": "code",
   "execution_count": 4,
   "metadata": {},
   "outputs": [
    {
     "data": {
      "text/plain": [
       "(10108, 7)"
      ]
     },
     "execution_count": 4,
     "metadata": {},
     "output_type": "execute_result"
    }
   ],
   "source": [
    "weekly_merged.shape # Glance at the dataset(1): 10,108 datapoints with 7 features."
   ]
  },
  {
   "cell_type": "code",
   "execution_count": 5,
   "metadata": {},
   "outputs": [
    {
     "data": {
      "text/html": [
       "<div>\n",
       "<style scoped>\n",
       "    .dataframe tbody tr th:only-of-type {\n",
       "        vertical-align: middle;\n",
       "    }\n",
       "\n",
       "    .dataframe tbody tr th {\n",
       "        vertical-align: top;\n",
       "    }\n",
       "\n",
       "    .dataframe thead th {\n",
       "        text-align: right;\n",
       "    }\n",
       "</style>\n",
       "<table border=\"1\" class=\"dataframe\">\n",
       "  <thead>\n",
       "    <tr style=\"text-align: right;\">\n",
       "      <th></th>\n",
       "      <th>StoreID</th>\n",
       "      <th>Week</th>\n",
       "      <th>Week_Start</th>\n",
       "      <th>Week_End</th>\n",
       "      <th>Invoice_Number</th>\n",
       "      <th>Gross_Margin</th>\n",
       "      <th>Sales</th>\n",
       "    </tr>\n",
       "  </thead>\n",
       "  <tbody>\n",
       "    <tr>\n",
       "      <th>0</th>\n",
       "      <td>1508</td>\n",
       "      <td>1</td>\n",
       "      <td>2015-02-06</td>\n",
       "      <td>2015-02-12</td>\n",
       "      <td>183</td>\n",
       "      <td>1429.4390</td>\n",
       "      <td>3124.61</td>\n",
       "    </tr>\n",
       "    <tr>\n",
       "      <th>1</th>\n",
       "      <td>1508</td>\n",
       "      <td>2</td>\n",
       "      <td>2015-02-13</td>\n",
       "      <td>2015-02-19</td>\n",
       "      <td>273</td>\n",
       "      <td>2031.2580</td>\n",
       "      <td>4360.54</td>\n",
       "    </tr>\n",
       "    <tr>\n",
       "      <th>2</th>\n",
       "      <td>1508</td>\n",
       "      <td>3</td>\n",
       "      <td>2015-02-20</td>\n",
       "      <td>2015-02-26</td>\n",
       "      <td>153</td>\n",
       "      <td>1022.0430</td>\n",
       "      <td>2217.27</td>\n",
       "    </tr>\n",
       "    <tr>\n",
       "      <th>3</th>\n",
       "      <td>1508</td>\n",
       "      <td>4</td>\n",
       "      <td>2015-02-27</td>\n",
       "      <td>2015-03-05</td>\n",
       "      <td>210</td>\n",
       "      <td>1372.2495</td>\n",
       "      <td>2996.95</td>\n",
       "    </tr>\n",
       "    <tr>\n",
       "      <th>4</th>\n",
       "      <td>1508</td>\n",
       "      <td>5</td>\n",
       "      <td>2015-03-06</td>\n",
       "      <td>2015-03-12</td>\n",
       "      <td>239</td>\n",
       "      <td>1698.8590</td>\n",
       "      <td>3704.73</td>\n",
       "    </tr>\n",
       "  </tbody>\n",
       "</table>\n",
       "</div>"
      ],
      "text/plain": [
       "   StoreID  Week  Week_Start    Week_End  Invoice_Number  Gross_Margin  \\\n",
       "0     1508     1  2015-02-06  2015-02-12             183     1429.4390   \n",
       "1     1508     2  2015-02-13  2015-02-19             273     2031.2580   \n",
       "2     1508     3  2015-02-20  2015-02-26             153     1022.0430   \n",
       "3     1508     4  2015-02-27  2015-03-05             210     1372.2495   \n",
       "4     1508     5  2015-03-06  2015-03-12             239     1698.8590   \n",
       "\n",
       "     Sales  \n",
       "0  3124.61  \n",
       "1  4360.54  \n",
       "2  2217.27  \n",
       "3  2996.95  \n",
       "4  3704.73  "
      ]
     },
     "execution_count": 5,
     "metadata": {},
     "output_type": "execute_result"
    }
   ],
   "source": [
    "weekly_merged.head() # Glance at the dataset(2)"
   ]
  },
  {
   "cell_type": "markdown",
   "metadata": {},
   "source": [
    "## Calculate Traffic Trend\n",
    "\n",
    "> The traffic trend value per unit is calculated based on the description of [A/B Trend tool](https://help.alteryx.com/current/designer/ab-trend-tool) in Alteryx webpage. The performance metric is the invoice count per week which represents weekly foot traffic. We have 12 weeks of periods to calculate the trend. The trend measure is based on period to period percentage changes in the rolling average (taken over a one year period (52 weeks) to control for seasonal effects) in a performance measure of interest. The trend measure for the period-to-period percentage change in the moving average is calculated as the average of multiple periods. "
   ]
  },
  {
   "cell_type": "code",
   "execution_count": 6,
   "metadata": {},
   "outputs": [],
   "source": [
    "# Create a dataframe with StoreID, Week number and Invoice Number \n",
    "traffic_mean = weekly_merged.groupby(['StoreID','Week'], as_index= False )['Invoice_Number'].mean()"
   ]
  },
  {
   "cell_type": "code",
   "execution_count": 7,
   "metadata": {},
   "outputs": [],
   "source": [
    "# Calcuate the rolling average taken over 52 weeks (a period of one year in weeks) to control seasonal effects\n",
    "traffic_mean['Traffic_Trend'] = traffic_mean.groupby('StoreID')['Invoice_Number'].transform(lambda x: x.rolling(window =52).mean())"
   ]
  },
  {
   "cell_type": "code",
   "execution_count": 8,
   "metadata": {},
   "outputs": [
    {
     "name": "stdout",
     "output_type": "stream",
     "text": [
      "<class 'pandas.core.frame.DataFrame'>\n",
      "Int64Index: 10108 entries, 0 to 10107\n",
      "Data columns (total 4 columns):\n",
      " #   Column          Non-Null Count  Dtype  \n",
      "---  ------          --------------  -----  \n",
      " 0   StoreID         10108 non-null  int64  \n",
      " 1   Week            10108 non-null  int64  \n",
      " 2   Invoice_Number  10108 non-null  int64  \n",
      " 3   Traffic_Trend   3325 non-null   float64\n",
      "dtypes: float64(1), int64(3)\n",
      "memory usage: 394.8 KB\n"
     ]
    }
   ],
   "source": [
    "traffic_mean.info()"
   ]
  },
  {
   "cell_type": "code",
   "execution_count": 9,
   "metadata": {},
   "outputs": [],
   "source": [
    "nontest_traffic  = traffic_mean.query('Week < 65') # Filter the week number before the test periods"
   ]
  },
  {
   "cell_type": "code",
   "execution_count": 10,
   "metadata": {},
   "outputs": [],
   "source": [
    "nontest_traffic = nontest_traffic.dropna() # Drop the rows with missing values "
   ]
  },
  {
   "cell_type": "code",
   "execution_count": 11,
   "metadata": {},
   "outputs": [
    {
     "name": "stdout",
     "output_type": "stream",
     "text": [
      "<class 'pandas.core.frame.DataFrame'>\n",
      "Int64Index: 1729 entries, 51 to 10095\n",
      "Data columns (total 4 columns):\n",
      " #   Column          Non-Null Count  Dtype  \n",
      "---  ------          --------------  -----  \n",
      " 0   StoreID         1729 non-null   int64  \n",
      " 1   Week            1729 non-null   int64  \n",
      " 2   Invoice_Number  1729 non-null   int64  \n",
      " 3   Traffic_Trend   1729 non-null   float64\n",
      "dtypes: float64(1), int64(3)\n",
      "memory usage: 67.5 KB\n"
     ]
    }
   ],
   "source": [
    "nontest_traffic.info()"
   ]
  },
  {
   "cell_type": "code",
   "execution_count": 12,
   "metadata": {},
   "outputs": [],
   "source": [
    "# Calculate the percentage changes in the rolling average per each period. \n",
    "traffic_trend_pivot = nontest_traffic.pivot(index = 'StoreID', columns= 'Week', values = 'Invoice_Number')\n",
    "traffic_trend = traffic_trend_pivot.T.pct_change()\n",
    "traffic_trend = traffic_trend.dropna()"
   ]
  },
  {
   "cell_type": "code",
   "execution_count": 13,
   "metadata": {},
   "outputs": [
    {
     "data": {
      "text/html": [
       "<div>\n",
       "<style scoped>\n",
       "    .dataframe tbody tr th:only-of-type {\n",
       "        vertical-align: middle;\n",
       "    }\n",
       "\n",
       "    .dataframe tbody tr th {\n",
       "        vertical-align: top;\n",
       "    }\n",
       "\n",
       "    .dataframe thead th {\n",
       "        text-align: right;\n",
       "    }\n",
       "</style>\n",
       "<table border=\"1\" class=\"dataframe\">\n",
       "  <thead>\n",
       "    <tr style=\"text-align: right;\">\n",
       "      <th></th>\n",
       "      <th>trend</th>\n",
       "    </tr>\n",
       "    <tr>\n",
       "      <th>StoreID</th>\n",
       "      <th></th>\n",
       "    </tr>\n",
       "  </thead>\n",
       "  <tbody>\n",
       "    <tr>\n",
       "      <th>1508</th>\n",
       "      <td>0.050026</td>\n",
       "    </tr>\n",
       "    <tr>\n",
       "      <th>1542</th>\n",
       "      <td>0.043256</td>\n",
       "    </tr>\n",
       "    <tr>\n",
       "      <th>1580</th>\n",
       "      <td>0.043588</td>\n",
       "    </tr>\n",
       "    <tr>\n",
       "      <th>1630</th>\n",
       "      <td>0.046803</td>\n",
       "    </tr>\n",
       "    <tr>\n",
       "      <th>1662</th>\n",
       "      <td>0.027122</td>\n",
       "    </tr>\n",
       "    <tr>\n",
       "      <th>...</th>\n",
       "      <td>...</td>\n",
       "    </tr>\n",
       "    <tr>\n",
       "      <th>12586</th>\n",
       "      <td>0.031885</td>\n",
       "    </tr>\n",
       "    <tr>\n",
       "      <th>12686</th>\n",
       "      <td>0.058825</td>\n",
       "    </tr>\n",
       "    <tr>\n",
       "      <th>12736</th>\n",
       "      <td>0.041383</td>\n",
       "    </tr>\n",
       "    <tr>\n",
       "      <th>12786</th>\n",
       "      <td>0.066118</td>\n",
       "    </tr>\n",
       "    <tr>\n",
       "      <th>12836</th>\n",
       "      <td>0.164516</td>\n",
       "    </tr>\n",
       "  </tbody>\n",
       "</table>\n",
       "<p>133 rows × 1 columns</p>\n",
       "</div>"
      ],
      "text/plain": [
       "            trend\n",
       "StoreID          \n",
       "1508     0.050026\n",
       "1542     0.043256\n",
       "1580     0.043588\n",
       "1630     0.046803\n",
       "1662     0.027122\n",
       "...           ...\n",
       "12586    0.031885\n",
       "12686    0.058825\n",
       "12736    0.041383\n",
       "12786    0.066118\n",
       "12836    0.164516\n",
       "\n",
       "[133 rows x 1 columns]"
      ]
     },
     "execution_count": 13,
     "metadata": {},
     "output_type": "execute_result"
    }
   ],
   "source": [
    "# Aggregate the 12 periods of percentage changes in the rolling average with the mean value. \n",
    "trend_value_df = pd.DataFrame(traffic_trend.mean(), columns=['trend'], index = traffic_trend_pivot.index)\n",
    "trend_value_df"
   ]
  },
  {
   "cell_type": "markdown",
   "metadata": {},
   "source": [
    "## Calculate Traffic Seasonality\n",
    "\n",
    "> The same performance measure (i.e. the number of invoice) is used to assess seasonal effects. Calculating seasonality is a little bit tricky. According to the Alteryx webpage, Seasonality is measured by the percentage of the total level of the performance measure of interest in each reporting period to assess seasonal patterns. In our case, the performance measure is the number of invoices and the reporting period is weeks. Thus, the percentage of total sales (over a 52 week period) that fall into each of 52 weeks is used. The measures of the per period percentage of annual invoice counts are dimensionally reduced via principal components analysis (PCA).\n",
    "\n",
    "> The A/B trend tool of Alteryx is used to create trend and seasonality variables to use as control variables. To do this, Alteryx recommend users to have at least 52 weeks of data, plus the number of weeks the users select in the tool to calculate trend, before the beginning of the test start date. For the project, we are asked to use 12 weeks to calculate trend, so we need 64 weeks of data prior to the test start date. Since the test lasts for 12 weeks. Therefore we need a total 76 weeks of data.\n",
    "\n",
    "> However, Alteryx webpage does not clearly mention that which of 52 weeks amid the 76 weeks are used for calculating seasonality values. Thus, I decided to use 52 weeks of data prior to the test start date for the seasonality measurement."
   ]
  },
  {
   "cell_type": "code",
   "execution_count": 14,
   "metadata": {
    "scrolled": false
   },
   "outputs": [],
   "source": [
    "# Filter the 52 weeks prior to the test start date.\n",
    "nontest_df = weekly_merged.query('Week > 12 & Week < 65') "
   ]
  },
  {
   "cell_type": "code",
   "execution_count": 15,
   "metadata": {
    "scrolled": false
   },
   "outputs": [],
   "source": [
    "# Calculate the percentage of total sales that fall into each of 52 weeks.\n",
    "Traffic_Seasonality_df= (nontest_df.groupby(['StoreID','Week'])['Invoice_Number'].sum()/nontest_df.groupby('StoreID')['Invoice_Number'].sum()*100).reset_index()"
   ]
  },
  {
   "cell_type": "code",
   "execution_count": 16,
   "metadata": {},
   "outputs": [
    {
     "data": {
      "text/html": [
       "<div>\n",
       "<style scoped>\n",
       "    .dataframe tbody tr th:only-of-type {\n",
       "        vertical-align: middle;\n",
       "    }\n",
       "\n",
       "    .dataframe tbody tr th {\n",
       "        vertical-align: top;\n",
       "    }\n",
       "\n",
       "    .dataframe thead th {\n",
       "        text-align: right;\n",
       "    }\n",
       "</style>\n",
       "<table border=\"1\" class=\"dataframe\">\n",
       "  <thead>\n",
       "    <tr style=\"text-align: right;\">\n",
       "      <th></th>\n",
       "      <th>StoreID</th>\n",
       "      <th>Week</th>\n",
       "      <th>Invoice_Number</th>\n",
       "    </tr>\n",
       "  </thead>\n",
       "  <tbody>\n",
       "    <tr>\n",
       "      <th>0</th>\n",
       "      <td>1508</td>\n",
       "      <td>13</td>\n",
       "      <td>2.329114</td>\n",
       "    </tr>\n",
       "    <tr>\n",
       "      <th>1</th>\n",
       "      <td>1508</td>\n",
       "      <td>14</td>\n",
       "      <td>2.187342</td>\n",
       "    </tr>\n",
       "    <tr>\n",
       "      <th>2</th>\n",
       "      <td>1508</td>\n",
       "      <td>15</td>\n",
       "      <td>2.065823</td>\n",
       "    </tr>\n",
       "    <tr>\n",
       "      <th>3</th>\n",
       "      <td>1508</td>\n",
       "      <td>16</td>\n",
       "      <td>2.308861</td>\n",
       "    </tr>\n",
       "    <tr>\n",
       "      <th>4</th>\n",
       "      <td>1508</td>\n",
       "      <td>17</td>\n",
       "      <td>1.265823</td>\n",
       "    </tr>\n",
       "  </tbody>\n",
       "</table>\n",
       "</div>"
      ],
      "text/plain": [
       "   StoreID  Week  Invoice_Number\n",
       "0     1508    13        2.329114\n",
       "1     1508    14        2.187342\n",
       "2     1508    15        2.065823\n",
       "3     1508    16        2.308861\n",
       "4     1508    17        1.265823"
      ]
     },
     "execution_count": 16,
     "metadata": {},
     "output_type": "execute_result"
    }
   ],
   "source": [
    "Traffic_Seasonality_df.head() # The column Invoice_Number means the percentage of total sales per week per store."
   ]
  },
  {
   "cell_type": "code",
   "execution_count": 17,
   "metadata": {},
   "outputs": [],
   "source": [
    "Traffic_Seasonality_pivot = Traffic_Seasonality_df.pivot(index = 'StoreID', columns= 'Week', values = 'Invoice_Number')"
   ]
  },
  {
   "cell_type": "markdown",
   "metadata": {},
   "source": [
    ">  As eariler mentioned, the measures of the per period percentage of annual invoice counts are dimensionally reduced via principal components analysis (PCA). To do so, I scaled the percentage values first."
   ]
  },
  {
   "cell_type": "code",
   "execution_count": 18,
   "metadata": {},
   "outputs": [],
   "source": [
    "from sklearn.preprocessing import StandardScaler\n",
    "sc = StandardScaler() # Create a StandardScaler object\n",
    "Traffic_Seasonality_scaled = sc.fit_transform(Traffic_Seasonality_pivot.values) "
   ]
  },
  {
   "cell_type": "code",
   "execution_count": 19,
   "metadata": {},
   "outputs": [
    {
     "name": "stdout",
     "output_type": "stream",
     "text": [
      "Original shape:    (133, 52)\n",
      "Transformed shape: (133, 1)\n"
     ]
    }
   ],
   "source": [
    "from sklearn.decomposition import PCA\n",
    "n_components=1\n",
    "pca = PCA(n_components)\n",
    "Traffic_Seasonality_pca=pca.fit_transform(Traffic_Seasonality_scaled)\n",
    "\n",
    "print(\"Original shape:   \", Traffic_Seasonality_scaled.shape) \n",
    "print(\"Transformed shape:\", Traffic_Seasonality_pca.shape) # The number of percentage of annual invoice counts per period is reduced."
   ]
  },
  {
   "cell_type": "code",
   "execution_count": 20,
   "metadata": {},
   "outputs": [
    {
     "data": {
      "text/html": [
       "<div>\n",
       "<style scoped>\n",
       "    .dataframe tbody tr th:only-of-type {\n",
       "        vertical-align: middle;\n",
       "    }\n",
       "\n",
       "    .dataframe tbody tr th {\n",
       "        vertical-align: top;\n",
       "    }\n",
       "\n",
       "    .dataframe thead th {\n",
       "        text-align: right;\n",
       "    }\n",
       "</style>\n",
       "<table border=\"1\" class=\"dataframe\">\n",
       "  <thead>\n",
       "    <tr style=\"text-align: right;\">\n",
       "      <th></th>\n",
       "      <th>seasonality_pca</th>\n",
       "    </tr>\n",
       "    <tr>\n",
       "      <th>StoreID</th>\n",
       "      <th></th>\n",
       "    </tr>\n",
       "  </thead>\n",
       "  <tbody>\n",
       "    <tr>\n",
       "      <th>1508</th>\n",
       "      <td>0.644776</td>\n",
       "    </tr>\n",
       "    <tr>\n",
       "      <th>1542</th>\n",
       "      <td>-4.798297</td>\n",
       "    </tr>\n",
       "    <tr>\n",
       "      <th>1580</th>\n",
       "      <td>-1.655745</td>\n",
       "    </tr>\n",
       "    <tr>\n",
       "      <th>1630</th>\n",
       "      <td>1.485807</td>\n",
       "    </tr>\n",
       "    <tr>\n",
       "      <th>1662</th>\n",
       "      <td>2.619123</td>\n",
       "    </tr>\n",
       "    <tr>\n",
       "      <th>...</th>\n",
       "      <td>...</td>\n",
       "    </tr>\n",
       "    <tr>\n",
       "      <th>12586</th>\n",
       "      <td>-4.348594</td>\n",
       "    </tr>\n",
       "    <tr>\n",
       "      <th>12686</th>\n",
       "      <td>1.941303</td>\n",
       "    </tr>\n",
       "    <tr>\n",
       "      <th>12736</th>\n",
       "      <td>-3.049105</td>\n",
       "    </tr>\n",
       "    <tr>\n",
       "      <th>12786</th>\n",
       "      <td>-0.061831</td>\n",
       "    </tr>\n",
       "    <tr>\n",
       "      <th>12836</th>\n",
       "      <td>1.712787</td>\n",
       "    </tr>\n",
       "  </tbody>\n",
       "</table>\n",
       "<p>133 rows × 1 columns</p>\n",
       "</div>"
      ],
      "text/plain": [
       "         seasonality_pca\n",
       "StoreID                 \n",
       "1508            0.644776\n",
       "1542           -4.798297\n",
       "1580           -1.655745\n",
       "1630            1.485807\n",
       "1662            2.619123\n",
       "...                  ...\n",
       "12586          -4.348594\n",
       "12686           1.941303\n",
       "12736          -3.049105\n",
       "12786          -0.061831\n",
       "12836           1.712787\n",
       "\n",
       "[133 rows x 1 columns]"
      ]
     },
     "execution_count": 20,
     "metadata": {},
     "output_type": "execute_result"
    }
   ],
   "source": [
    "ts_pca = pd.DataFrame(Traffic_Seasonality_pca, columns=['seasonality_pca'], index = Traffic_Seasonality_pivot.index)\n",
    "ts_pca # Calculated seasonality values per store"
   ]
  },
  {
   "cell_type": "code",
   "execution_count": 21,
   "metadata": {},
   "outputs": [
    {
     "data": {
      "text/html": [
       "<div>\n",
       "<style scoped>\n",
       "    .dataframe tbody tr th:only-of-type {\n",
       "        vertical-align: middle;\n",
       "    }\n",
       "\n",
       "    .dataframe tbody tr th {\n",
       "        vertical-align: top;\n",
       "    }\n",
       "\n",
       "    .dataframe thead th {\n",
       "        text-align: right;\n",
       "    }\n",
       "</style>\n",
       "<table border=\"1\" class=\"dataframe\">\n",
       "  <thead>\n",
       "    <tr style=\"text-align: right;\">\n",
       "      <th></th>\n",
       "      <th>trend</th>\n",
       "      <th>seasonality_pca</th>\n",
       "    </tr>\n",
       "    <tr>\n",
       "      <th>StoreID</th>\n",
       "      <th></th>\n",
       "      <th></th>\n",
       "    </tr>\n",
       "  </thead>\n",
       "  <tbody>\n",
       "    <tr>\n",
       "      <th>1508</th>\n",
       "      <td>0.050026</td>\n",
       "      <td>0.644776</td>\n",
       "    </tr>\n",
       "    <tr>\n",
       "      <th>1542</th>\n",
       "      <td>0.043256</td>\n",
       "      <td>-4.798297</td>\n",
       "    </tr>\n",
       "    <tr>\n",
       "      <th>1580</th>\n",
       "      <td>0.043588</td>\n",
       "      <td>-1.655745</td>\n",
       "    </tr>\n",
       "    <tr>\n",
       "      <th>1630</th>\n",
       "      <td>0.046803</td>\n",
       "      <td>1.485807</td>\n",
       "    </tr>\n",
       "    <tr>\n",
       "      <th>1662</th>\n",
       "      <td>0.027122</td>\n",
       "      <td>2.619123</td>\n",
       "    </tr>\n",
       "  </tbody>\n",
       "</table>\n",
       "</div>"
      ],
      "text/plain": [
       "            trend  seasonality_pca\n",
       "StoreID                           \n",
       "1508     0.050026         0.644776\n",
       "1542     0.043256        -4.798297\n",
       "1580     0.043588        -1.655745\n",
       "1630     0.046803         1.485807\n",
       "1662     0.027122         2.619123"
      ]
     },
     "execution_count": 21,
     "metadata": {},
     "output_type": "execute_result"
    }
   ],
   "source": [
    "# Trend and seasonality value per store \n",
    "trendtool_df = trend_value_df.merge(ts_pca, left_on='StoreID', right_on='StoreID', how= 'inner')\n",
    "trendtool_df.head()"
   ]
  },
  {
   "cell_type": "markdown",
   "metadata": {},
   "source": [
    "## Matching Units\n",
    "\n",
    "> In Alteryx, the [A/B Controls tool](https://help.alteryx.com/current/designer/ab-controls-tool) matches one to ten control units (for this analysis, stores) to each treatment units, based on criteria such as seasonal patterns and growth trends for a key performance indicator (for this analysis, traffic), along with other variables we earlier selected as control variables (for this analysis, Average Monthly Sales, Region). Possible control units are matched to the provided list of treatment units using nearest neighbor methods based on a [kd-tree algorithm](https://en.wikipedia.org/wiki/K-d_tree)."
   ]
  },
  {
   "cell_type": "markdown",
   "metadata": {},
   "source": [
    "### Control the categorical variable: Region"
   ]
  },
  {
   "cell_type": "code",
   "execution_count": 22,
   "metadata": {},
   "outputs": [],
   "source": [
    "# Merge the two dataframes \n",
    "match_df= trendtool_df.merge(stores_df, how = 'inner', left_on = 'StoreID', right_on = 'StoreID') "
   ]
  },
  {
   "cell_type": "code",
   "execution_count": 23,
   "metadata": {},
   "outputs": [
    {
     "name": "stdout",
     "output_type": "stream",
     "text": [
      "<class 'pandas.core.frame.DataFrame'>\n",
      "Int64Index: 143 entries, 0 to 142\n",
      "Data columns (total 10 columns):\n",
      " #   Column           Non-Null Count  Dtype  \n",
      "---  ------           --------------  -----  \n",
      " 0   StoreID          143 non-null    int64  \n",
      " 1   trend            143 non-null    float64\n",
      " 2   seasonality_pca  143 non-null    float64\n",
      " 3   Sq_Ft            143 non-null    int64  \n",
      " 4   AvgMonthSales    143 non-null    int64  \n",
      " 5   Name             143 non-null    object \n",
      " 6   City             143 non-null    object \n",
      " 7   State            143 non-null    object \n",
      " 8   Region           143 non-null    object \n",
      " 9   Group            143 non-null    object \n",
      "dtypes: float64(2), int64(3), object(5)\n",
      "memory usage: 12.3+ KB\n"
     ]
    }
   ],
   "source": [
    "match_df.info()"
   ]
  },
  {
   "cell_type": "code",
   "execution_count": 24,
   "metadata": {},
   "outputs": [],
   "source": [
    "# Control the variable region. \n",
    "Central = match_df.query('Region == \"Central\"')\n",
    "West = match_df.query('Region == \"West\"')"
   ]
  },
  {
   "cell_type": "code",
   "execution_count": 25,
   "metadata": {
    "scrolled": true
   },
   "outputs": [
    {
     "data": {
      "text/plain": [
       "((47, 10), (96, 10))"
      ]
     },
     "execution_count": 25,
     "metadata": {},
     "output_type": "execute_result"
    }
   ],
   "source": [
    "Central.shape, West.shape"
   ]
  },
  {
   "cell_type": "code",
   "execution_count": 26,
   "metadata": {},
   "outputs": [
    {
     "data": {
      "text/plain": [
       "((5, 10), (42, 10))"
      ]
     },
     "execution_count": 26,
     "metadata": {},
     "output_type": "execute_result"
    }
   ],
   "source": [
    "# Seperate the control and treatment units into different dataframe\n",
    "Central_T = Central.query('Group ==\"treatment\"')\n",
    "Central_C = Central.query('Group ==\"control\"')\n",
    "West_T = West.query('Group ==\"treatment\"')\n",
    "West_C = West.query('Group ==\"control\"')\n",
    "Central_T.shape, Central_C.shape"
   ]
  },
  {
   "cell_type": "markdown",
   "metadata": {},
   "source": [
    "### Control the continuous  variables: Traffic Trend, Traffic Seasonality, Average Monthly Sales"
   ]
  },
  {
   "cell_type": "code",
   "execution_count": 27,
   "metadata": {},
   "outputs": [],
   "source": [
    "# Select the relevant continuous variables: Traffic Trend, Traffic Seasonality, Average Monthly Sales\n",
    "Central_mod= Central_C[['StoreID', 'trend', 'seasonality_pca', 'AvgMonthSales']]\n",
    "West_mod= West_C[['StoreID',   'trend', 'seasonality_pca',  'AvgMonthSales']]"
   ]
  },
  {
   "cell_type": "code",
   "execution_count": 28,
   "metadata": {
    "scrolled": true
   },
   "outputs": [],
   "source": [
    "# Scale the variables to calculate distance \n",
    "Central_np= Central_mod[[ 'trend', 'seasonality_pca',  'AvgMonthSales']].to_numpy()\n",
    "Central_scaled = preprocessing.scale(Central_np)\n",
    "West_np= West_mod[[ 'trend', 'seasonality_pca',  'AvgMonthSales']].to_numpy()\n",
    "West_scaled = preprocessing.scale(West_np)"
   ]
  },
  {
   "cell_type": "code",
   "execution_count": 29,
   "metadata": {},
   "outputs": [],
   "source": [
    "from sklearn.neighbors import NearestNeighbors\n",
    "neigh = NearestNeighbors(n_neighbors=3, algorithm='kd_tree')"
   ]
  },
  {
   "cell_type": "markdown",
   "metadata": {},
   "source": [
    "####  i. Matching Stores in Central Region"
   ]
  },
  {
   "cell_type": "code",
   "execution_count": 30,
   "metadata": {},
   "outputs": [
    {
     "data": {
      "text/plain": [
       "NearestNeighbors(algorithm='kd_tree', n_neighbors=3)"
      ]
     },
     "execution_count": 30,
     "metadata": {},
     "output_type": "execute_result"
    }
   ],
   "source": [
    "neigh.fit(Central_scaled)"
   ]
  },
  {
   "cell_type": "code",
   "execution_count": 31,
   "metadata": {
    "scrolled": false
   },
   "outputs": [],
   "source": [
    "dist_1664, ind_1664 = neigh.kneighbors(Central_scaled[5:6]) # Store ID: 1664"
   ]
  },
  {
   "cell_type": "code",
   "execution_count": 32,
   "metadata": {},
   "outputs": [
    {
     "data": {
      "text/plain": [
       "array([[0.        , 0.66577427, 1.23906008]])"
      ]
     },
     "execution_count": 32,
     "metadata": {},
     "output_type": "execute_result"
    }
   ],
   "source": [
    "dist_1664"
   ]
  },
  {
   "cell_type": "code",
   "execution_count": 33,
   "metadata": {
    "scrolled": true
   },
   "outputs": [
    {
     "name": "stdout",
     "output_type": "stream",
     "text": [
      "Treatment Unit Store ID: 1664\n",
      "Matched Control Units Store IDs: 8112 , 2214\n"
     ]
    }
   ],
   "source": [
    "print('Treatment Unit Store ID:', Central_mod.iloc[5][0].astype(int))\n",
    "print('Matched Control Units Store IDs:', \n",
    "      Central_mod.iloc[ind_1664[0][1]][0].astype(int),',', Central_mod.iloc[ind_1664[0][2]][0].astype(int))"
   ]
  },
  {
   "cell_type": "code",
   "execution_count": 34,
   "metadata": {
    "scrolled": false
   },
   "outputs": [],
   "source": [
    "dist_1675, ind_1675 = neigh.kneighbors(Central_scaled[6:7]) # Store ID: 1675"
   ]
  },
  {
   "cell_type": "code",
   "execution_count": 35,
   "metadata": {},
   "outputs": [
    {
     "name": "stdout",
     "output_type": "stream",
     "text": [
      "Treatment Unit Store ID: 1675\n",
      "Matched Control Units Store IDs: 7284 , 1807\n"
     ]
    }
   ],
   "source": [
    "print('Treatment Unit Store ID:', Central_mod.iloc[6][0].astype(int))\n",
    "print('Matched Control Units Store IDs:',\n",
    "      Central_mod.iloc[ind_1675[0][1]][0].astype(int),',', Central_mod.iloc[ind_1675[0][2]][0].astype(int))"
   ]
  },
  {
   "cell_type": "code",
   "execution_count": 36,
   "metadata": {
    "scrolled": false
   },
   "outputs": [],
   "source": [
    "dist_1696, ind_1696 = neigh.kneighbors(Central_scaled[7:8]) # Store ID: 1696"
   ]
  },
  {
   "cell_type": "code",
   "execution_count": 37,
   "metadata": {},
   "outputs": [
    {
     "name": "stdout",
     "output_type": "stream",
     "text": [
      "Treatment Unit Store ID: 1696\n",
      "Matched Control Units Store IDs: 1964 , 7334\n"
     ]
    }
   ],
   "source": [
    "print('Treatment Unit Store ID:', Central_mod.iloc[7][0].astype(int))\n",
    "print('Matched Control Units Store IDs:', \n",
    "      Central_mod.iloc[ind_1696[0][1]][0].astype(int),',', Central_mod.iloc[ind_1696[0][2]][0].astype(int))"
   ]
  },
  {
   "cell_type": "code",
   "execution_count": 38,
   "metadata": {},
   "outputs": [],
   "source": [
    "dist_1700, ind_1700 = neigh.kneighbors(Central_scaled[8:9], 5, return_distance=True) # Store ID: 1700"
   ]
  },
  {
   "cell_type": "code",
   "execution_count": 39,
   "metadata": {},
   "outputs": [
    {
     "name": "stdout",
     "output_type": "stream",
     "text": [
      "Treatment Unit Store ID: 1700\n",
      "Matched Control Units Store IDs: 8262 , 1675\n"
     ]
    }
   ],
   "source": [
    "print('Treatment Unit Store ID:', Central_mod.iloc[8][0].astype(int))\n",
    "print('Matched Control Units Store IDs:', \n",
    "      Central_mod.iloc[ind_1700[0][1]][0].astype(int),',', Central_mod.iloc[ind_1700[0][2]][0].astype(int))"
   ]
  },
  {
   "cell_type": "code",
   "execution_count": 40,
   "metadata": {},
   "outputs": [],
   "source": [
    "dist_1712, ind_1712 = neigh.kneighbors(Central_scaled[9:10]) # Store ID: 1712"
   ]
  },
  {
   "cell_type": "code",
   "execution_count": 41,
   "metadata": {},
   "outputs": [
    {
     "name": "stdout",
     "output_type": "stream",
     "text": [
      "Treatment Unit Store ID: 1712\n",
      "Matched Control Units Store IDs: 7434 , 2114\n"
     ]
    }
   ],
   "source": [
    "print('Treatment Unit Store ID:', Central_mod.iloc[9][0].astype(int))\n",
    "print('Matched Control Units Store IDs:', \n",
    "      Central_mod.iloc[ind_1712[0][1]][0].astype(int),',', Central_mod.iloc[ind_1712[0][2]][0].astype(int))"
   ]
  },
  {
   "cell_type": "markdown",
   "metadata": {},
   "source": [
    "####  ii. Matching Stores in West region"
   ]
  },
  {
   "cell_type": "code",
   "execution_count": 42,
   "metadata": {},
   "outputs": [
    {
     "data": {
      "text/plain": [
       "NearestNeighbors(algorithm='kd_tree', n_neighbors=3)"
      ]
     },
     "execution_count": 42,
     "metadata": {},
     "output_type": "execute_result"
    }
   ],
   "source": [
    "neigh.fit(West_scaled)"
   ]
  },
  {
   "cell_type": "code",
   "execution_count": 43,
   "metadata": {
    "scrolled": true
   },
   "outputs": [],
   "source": [
    "dist_2288, ind_2288 = neigh.kneighbors(West_scaled[1:2]) # Store ID: 2288"
   ]
  },
  {
   "cell_type": "code",
   "execution_count": 44,
   "metadata": {},
   "outputs": [
    {
     "name": "stdout",
     "output_type": "stream",
     "text": [
      "Treatment Unit Store ID: 2288\n",
      "Matched Control Units Store IDs: 2568 8817\n"
     ]
    }
   ],
   "source": [
    "print('Treatment Unit Store ID:', West_mod.iloc[1][0].astype(int))\n",
    "print('Matched Control Units Store IDs:', West_mod.iloc[ind_2288[0][1]][0].astype(int), West_mod.iloc[ind_2288[0][2]][0].astype(int))"
   ]
  },
  {
   "cell_type": "code",
   "execution_count": 45,
   "metadata": {
    "scrolled": true
   },
   "outputs": [],
   "source": [
    "dist_2293, ind_2293 = neigh.kneighbors(West_scaled[2:3]) # Store ID: 2293"
   ]
  },
  {
   "cell_type": "code",
   "execution_count": 46,
   "metadata": {},
   "outputs": [
    {
     "name": "stdout",
     "output_type": "stream",
     "text": [
      "Treatment Unit Store ID: 2293\n",
      "Matched Control Units Store IDs: 12286 9524\n"
     ]
    }
   ],
   "source": [
    "print('Treatment Unit Store ID:', West_mod.iloc[2][0].astype(int))\n",
    "print('Matched Control Units Store IDs:', West_mod.iloc[ind_2293[0][1]][0].astype(int), West_mod.iloc[ind_2293[0][2]][0].astype(int))"
   ]
  },
  {
   "cell_type": "code",
   "execution_count": 47,
   "metadata": {
    "scrolled": true
   },
   "outputs": [],
   "source": [
    "dist_2301, ind_2301 = neigh.kneighbors(West_scaled[3:4]) # Store ID: 2301"
   ]
  },
  {
   "cell_type": "code",
   "execution_count": 48,
   "metadata": {},
   "outputs": [
    {
     "name": "stdout",
     "output_type": "stream",
     "text": [
      "Treatment Unit Store ID: 2301\n",
      "Matched Control Units Store IDs: 11668 12169\n"
     ]
    }
   ],
   "source": [
    "print('Treatment Unit Store ID:', West_mod.iloc[3][0].astype(int))\n",
    "print('Matched Control Units Store IDs:', West_mod.iloc[ind_2301[0][1]][0].astype(int), West_mod.iloc[ind_2301[0][2]][0].astype(int))"
   ]
  },
  {
   "cell_type": "code",
   "execution_count": 49,
   "metadata": {
    "scrolled": true
   },
   "outputs": [],
   "source": [
    "dist_2322, ind_2322 = neigh.kneighbors(West_scaled[4:5]) # Store ID: 2322"
   ]
  },
  {
   "cell_type": "code",
   "execution_count": 50,
   "metadata": {},
   "outputs": [
    {
     "name": "stdout",
     "output_type": "stream",
     "text": [
      "Treatment Unit Store ID: 2322\n",
      "Matched Control Units Store IDs: 10218 9388\n"
     ]
    }
   ],
   "source": [
    "print('Treatment Unit Store ID:', West_mod.iloc[4][0].astype(int))\n",
    "print('Matched Control Units Store IDs:', West_mod.iloc[ind_2322[0][1]][0].astype(int), West_mod.iloc[ind_2322[0][2]][0].astype(int))"
   ]
  },
  {
   "cell_type": "code",
   "execution_count": 51,
   "metadata": {},
   "outputs": [],
   "source": [
    "dist_2341, ind_2341 = neigh.kneighbors(West_scaled[6:7]) # Store ID: 2341"
   ]
  },
  {
   "cell_type": "code",
   "execution_count": 52,
   "metadata": {
    "scrolled": false
   },
   "outputs": [
    {
     "name": "stdout",
     "output_type": "stream",
     "text": [
      "Treatment Unit Store ID: 2341\n",
      "Matched Control Units Store IDs: 9188 9524\n"
     ]
    }
   ],
   "source": [
    "print('Treatment Unit Store ID:', West_mod.iloc[6][0].astype(int))\n",
    "print('Matched Control Units Store IDs:', West_mod.iloc[ind_2341[0][1]][0].astype(int), West_mod.iloc[ind_2341[0][2]][0].astype(int))"
   ]
  },
  {
   "cell_type": "markdown",
   "metadata": {},
   "source": [
    "#### iii. Convert the outputs to Dataframe"
   ]
  },
  {
   "cell_type": "code",
   "execution_count": 53,
   "metadata": {},
   "outputs": [],
   "source": [
    "matched_central = [ (Central_mod.iloc[5][0].astype(int), Central_mod.iloc[ind_1664[0][1]][0].astype(int), dist_1664[0][1]),\n",
    "                (Central_mod.iloc[5][0].astype(int), Central_mod.iloc[ind_1664[0][2]][0].astype(int), dist_1664[0][2]) ,\n",
    "                (Central_mod.iloc[6][0].astype(int), Central_mod.iloc[ind_1675[0][1]][0].astype(int), dist_1675[0][1]) ,\n",
    "                (Central_mod.iloc[6][0].astype(int), Central_mod.iloc[ind_1675[0][2]][0].astype(int), dist_1675[0][2]) ,\n",
    "                (Central_mod.iloc[7][0].astype(int), Central_mod.iloc[ind_1696[0][1]][0].astype(int), dist_1696[0][1]) ,\n",
    "                (Central_mod.iloc[7][0].astype(int), Central_mod.iloc[ind_1696[0][2]][0].astype(int), dist_1696[0][2]) , \n",
    "                (Central_mod.iloc[8][0].astype(int), Central_mod.iloc[ind_1700[0][1]][0].astype(int), dist_1700[0][1]) ,\n",
    "                (Central_mod.iloc[8][0].astype(int), Central_mod.iloc[ind_1700[0][2]][0].astype(int), dist_1700[0][2]) , \n",
    "                (Central_mod.iloc[9][0].astype(int), Central_mod.iloc[ind_1712[0][1]][0].astype(int), dist_1712[0][1]) , \n",
    "                (Central_mod.iloc[9][0].astype(int), Central_mod.iloc[ind_1712[0][2]][0].astype(int), dist_1712[0][2]) ]\n",
    "\n",
    "matched_west = [(West_mod.iloc[1][0].astype(int), West_mod.iloc[ind_2288[0][1]][0].astype(int), dist_2288[0][1]),\n",
    "                (West_mod.iloc[1][0].astype(int), West_mod.iloc[ind_2288[0][2]][0].astype(int), dist_2288[0][2]) ,\n",
    "                (West_mod.iloc[2][0].astype(int), West_mod.iloc[ind_2293[0][1]][0].astype(int), dist_2293[0][1]) ,\n",
    "                (West_mod.iloc[2][0].astype(int), West_mod.iloc[ind_2293[0][2]][0].astype(int), dist_2293[0][2]) ,\n",
    "                (West_mod.iloc[3][0].astype(int), West_mod.iloc[ind_2301[0][1]][0].astype(int), dist_2301[0][1]) ,\n",
    "                (West_mod.iloc[3][0].astype(int), West_mod.iloc[ind_2301[0][2]][0].astype(int), dist_2301[0][2]) , \n",
    "                (West_mod.iloc[4][0].astype(int), West_mod.iloc[ind_2322[0][1]][0].astype(int), dist_2322[0][1]) ,\n",
    "                (West_mod.iloc[5][0].astype(int), West_mod.iloc[ind_2322[0][2]][0].astype(int), dist_2322[0][2]) , \n",
    "                (West_mod.iloc[6][0].astype(int), West_mod.iloc[ind_2341[0][1]][0].astype(int), dist_2341[0][1]) , \n",
    "                (West_mod.iloc[6][0].astype(int), West_mod.iloc[ind_2341[0][2]][0].astype(int), dist_2341[0][2]) ]\n",
    "#Create a DataFrame object\n",
    "matched_central = pd.DataFrame(matched_central, columns = ['treatment' , 'control', 'distance']) \n",
    "matched_west = pd.DataFrame(matched_west, columns = ['treatment' , 'control', 'distance']) "
   ]
  },
  {
   "cell_type": "code",
   "execution_count": 54,
   "metadata": {
    "scrolled": false
   },
   "outputs": [
    {
     "data": {
      "text/html": [
       "<div>\n",
       "<style scoped>\n",
       "    .dataframe tbody tr th:only-of-type {\n",
       "        vertical-align: middle;\n",
       "    }\n",
       "\n",
       "    .dataframe tbody tr th {\n",
       "        vertical-align: top;\n",
       "    }\n",
       "\n",
       "    .dataframe thead th {\n",
       "        text-align: right;\n",
       "    }\n",
       "</style>\n",
       "<table border=\"1\" class=\"dataframe\">\n",
       "  <thead>\n",
       "    <tr style=\"text-align: right;\">\n",
       "      <th></th>\n",
       "      <th>treatment</th>\n",
       "      <th>control</th>\n",
       "      <th>distance</th>\n",
       "    </tr>\n",
       "  </thead>\n",
       "  <tbody>\n",
       "    <tr>\n",
       "      <th>0</th>\n",
       "      <td>1664</td>\n",
       "      <td>8112</td>\n",
       "      <td>0.665774</td>\n",
       "    </tr>\n",
       "    <tr>\n",
       "      <th>1</th>\n",
       "      <td>1664</td>\n",
       "      <td>2214</td>\n",
       "      <td>1.239060</td>\n",
       "    </tr>\n",
       "    <tr>\n",
       "      <th>2</th>\n",
       "      <td>1675</td>\n",
       "      <td>7284</td>\n",
       "      <td>0.378801</td>\n",
       "    </tr>\n",
       "    <tr>\n",
       "      <th>3</th>\n",
       "      <td>1675</td>\n",
       "      <td>1807</td>\n",
       "      <td>0.559331</td>\n",
       "    </tr>\n",
       "    <tr>\n",
       "      <th>4</th>\n",
       "      <td>1696</td>\n",
       "      <td>1964</td>\n",
       "      <td>0.486352</td>\n",
       "    </tr>\n",
       "    <tr>\n",
       "      <th>5</th>\n",
       "      <td>1696</td>\n",
       "      <td>7334</td>\n",
       "      <td>0.552556</td>\n",
       "    </tr>\n",
       "    <tr>\n",
       "      <th>6</th>\n",
       "      <td>1700</td>\n",
       "      <td>8262</td>\n",
       "      <td>1.294511</td>\n",
       "    </tr>\n",
       "    <tr>\n",
       "      <th>7</th>\n",
       "      <td>1700</td>\n",
       "      <td>1675</td>\n",
       "      <td>1.396585</td>\n",
       "    </tr>\n",
       "    <tr>\n",
       "      <th>8</th>\n",
       "      <td>1712</td>\n",
       "      <td>7434</td>\n",
       "      <td>0.777355</td>\n",
       "    </tr>\n",
       "    <tr>\n",
       "      <th>9</th>\n",
       "      <td>1712</td>\n",
       "      <td>2114</td>\n",
       "      <td>0.785891</td>\n",
       "    </tr>\n",
       "    <tr>\n",
       "      <th>0</th>\n",
       "      <td>2288</td>\n",
       "      <td>2568</td>\n",
       "      <td>0.294205</td>\n",
       "    </tr>\n",
       "    <tr>\n",
       "      <th>1</th>\n",
       "      <td>2288</td>\n",
       "      <td>8817</td>\n",
       "      <td>0.354188</td>\n",
       "    </tr>\n",
       "    <tr>\n",
       "      <th>2</th>\n",
       "      <td>2293</td>\n",
       "      <td>12286</td>\n",
       "      <td>0.099722</td>\n",
       "    </tr>\n",
       "    <tr>\n",
       "      <th>3</th>\n",
       "      <td>2293</td>\n",
       "      <td>9524</td>\n",
       "      <td>0.331850</td>\n",
       "    </tr>\n",
       "    <tr>\n",
       "      <th>4</th>\n",
       "      <td>2301</td>\n",
       "      <td>11668</td>\n",
       "      <td>0.503986</td>\n",
       "    </tr>\n",
       "    <tr>\n",
       "      <th>5</th>\n",
       "      <td>2301</td>\n",
       "      <td>12169</td>\n",
       "      <td>0.525877</td>\n",
       "    </tr>\n",
       "    <tr>\n",
       "      <th>6</th>\n",
       "      <td>2322</td>\n",
       "      <td>10218</td>\n",
       "      <td>0.371185</td>\n",
       "    </tr>\n",
       "    <tr>\n",
       "      <th>7</th>\n",
       "      <td>2333</td>\n",
       "      <td>9388</td>\n",
       "      <td>0.433150</td>\n",
       "    </tr>\n",
       "    <tr>\n",
       "      <th>8</th>\n",
       "      <td>2341</td>\n",
       "      <td>9188</td>\n",
       "      <td>0.331481</td>\n",
       "    </tr>\n",
       "    <tr>\n",
       "      <th>9</th>\n",
       "      <td>2341</td>\n",
       "      <td>9524</td>\n",
       "      <td>0.435612</td>\n",
       "    </tr>\n",
       "  </tbody>\n",
       "</table>\n",
       "</div>"
      ],
      "text/plain": [
       "   treatment  control  distance\n",
       "0       1664     8112  0.665774\n",
       "1       1664     2214  1.239060\n",
       "2       1675     7284  0.378801\n",
       "3       1675     1807  0.559331\n",
       "4       1696     1964  0.486352\n",
       "5       1696     7334  0.552556\n",
       "6       1700     8262  1.294511\n",
       "7       1700     1675  1.396585\n",
       "8       1712     7434  0.777355\n",
       "9       1712     2114  0.785891\n",
       "0       2288     2568  0.294205\n",
       "1       2288     8817  0.354188\n",
       "2       2293    12286  0.099722\n",
       "3       2293     9524  0.331850\n",
       "4       2301    11668  0.503986\n",
       "5       2301    12169  0.525877\n",
       "6       2322    10218  0.371185\n",
       "7       2333     9388  0.433150\n",
       "8       2341     9188  0.331481\n",
       "9       2341     9524  0.435612"
      ]
     },
     "execution_count": 54,
     "metadata": {},
     "output_type": "execute_result"
    }
   ],
   "source": [
    "matched_units = matched_central.append(matched_west)\n",
    "matched_units"
   ]
  },
  {
   "cell_type": "markdown",
   "metadata": {},
   "source": [
    "> The treatment units are matched with the nearest control units according to the distance from kd-tree algorithm. Note that the matched results are slightly different from those from Alteryx Control tool. This is because Alteryx Control put different weights on each control variable. How different the weighted values on each variable are unknown. Unlike Alteryx Control tool, I put equal weight on individual varaibles, by scaling the values.  "
   ]
  },
  {
   "cell_type": "markdown",
   "metadata": {},
   "source": [
    "<a id='Analysis'></a>\n",
    "## Data Analysis\n",
    "\n",
    "> In this section, I compared the average Gross Margin of treatment stores with that of matched control units in each region between comparative and test periods. The comparative period is one year (52 weeks) prior to the test period. (2016-April-29 to 2016-July-21) Then, based on the overall comparison, I draw the conclusion of the analysis. \n",
    "\n",
    "### Central "
   ]
  },
  {
   "cell_type": "code",
   "execution_count": 55,
   "metadata": {},
   "outputs": [],
   "source": [
    "data_merged = weekly_merged.merge(stores_df, how = 'inner', left_on = 'StoreID', right_on = 'StoreID') \n",
    "central_stores = [1664, 1675, 1696, 1700, 1712, 8112, 2214, 7284, 1807, 1964, 7334, 8262, 1675, 7434, 2114]\n",
    "data_merged_central = data_merged[data_merged.StoreID.isin(central_stores)]"
   ]
  },
  {
   "cell_type": "code",
   "execution_count": 57,
   "metadata": {
    "scrolled": false
   },
   "outputs": [],
   "source": [
    "compartive_period_central = data_merged_central.query('Week > 12 & Week < 25') # \n",
    "test_period_central= data_merged_central.query('Week >64 & Week < 77')"
   ]
  },
  {
   "cell_type": "markdown",
   "metadata": {},
   "source": [
    "#### Time Comparison Plot (Central)"
   ]
  },
  {
   "cell_type": "code",
   "execution_count": 58,
   "metadata": {
    "scrolled": true
   },
   "outputs": [
    {
     "data": {
      "text/plain": [
       "Text(0.5, 1.0, 'Gross Margin during Comparative Period - Central')"
      ]
     },
     "execution_count": 58,
     "metadata": {},
     "output_type": "execute_result"
    },
    {
     "data": {
      "image/png": "[encoded data removed]",
      "text/plain": [
       "<Figure size 1440x360 with 2 Axes>"
      ]
     },
     "metadata": {},
     "output_type": "display_data"
    }
   ],
   "source": [
    "plt.figure(figsize =[20,5] )\n",
    "\n",
    "plt.subplot(1,2,2)\n",
    "ax2 = sns.lineplot(data = test_period_central, x = 'Week_Start', y=\"Gross_Margin\", hue = 'Group')\n",
    "ax2.set(xlabel='Date', ylabel='Gross Margin')\n",
    "plt.xticks(rotation=30)\n",
    "plt.title('Gross Margin during Test Period - Central')\n",
    "\n",
    "plt.subplot(1,2,1, sharey = ax2)\n",
    "ax1 = sns.lineplot(data = compartive_period_central, x = 'Week_Start', y=\"Gross_Margin\", hue = 'Group')\n",
    "ax1.set(xlabel='Date', ylabel='Gross Margin')\n",
    "plt.xticks(rotation=30)\n",
    "plt.title('Gross Margin during Comparative Period - Central')"
   ]
  },
  {
   "cell_type": "markdown",
   "metadata": {},
   "source": [
    "#### T-Test (Central)"
   ]
  },
  {
   "cell_type": "code",
   "execution_count": 59,
   "metadata": {},
   "outputs": [
    {
     "data": {
      "text/plain": [
       "Group\n",
       "control      1939.705253\n",
       "treatment    2529.842308\n",
       "Name: Gross_Margin, dtype: float64"
      ]
     },
     "execution_count": 59,
     "metadata": {},
     "output_type": "execute_result"
    }
   ],
   "source": [
    "test_period_central.groupby('Group')['Gross_Margin'].mean()"
   ]
  },
  {
   "cell_type": "code",
   "execution_count": 60,
   "metadata": {},
   "outputs": [
    {
     "data": {
      "text/plain": [
       "Text(0, 0.5, 'Average Gross Margin')"
      ]
     },
     "execution_count": 60,
     "metadata": {},
     "output_type": "execute_result"
    },
    {
     "data": {
      "image/png": "[encoded data removed]",
      "text/plain": [
       "<Figure size 432x288 with 1 Axes>"
      ]
     },
     "metadata": {},
     "output_type": "display_data"
    }
   ],
   "source": [
    "base_color = sns.color_palette()[0]\n",
    "sns.barplot(data = test_period_central, x = 'Group', y = 'Gross_Margin', color = base_color)\n",
    "plt.title('Average Gross Margin per Week during the Test Period - Central')\n",
    "plt.ylabel('Average Gross Margin')"
   ]
  },
  {
   "cell_type": "code",
   "execution_count": 61,
   "metadata": {
    "scrolled": false
   },
   "outputs": [
    {
     "data": {
      "text/plain": [
       "Ttest_indResult(statistic=-4.072571513965795, pvalue=9.936362325813128e-05)"
      ]
     },
     "execution_count": 61,
     "metadata": {},
     "output_type": "execute_result"
    }
   ],
   "source": [
    "# T-test for \"Average Gross Margin - Central\"\n",
    "from scipy import stats\n",
    "stats.ttest_ind(test_period_central.query('Group == \"control\"')['Gross_Margin'] , test_period_central.query('Group == \"treatment\"')['Gross_Margin'] , equal_var = False)"
   ]
  },
  {
   "cell_type": "markdown",
   "metadata": {},
   "source": [
    "### West"
   ]
  },
  {
   "cell_type": "code",
   "execution_count": 62,
   "metadata": {},
   "outputs": [],
   "source": [
    "west_stores = [2288, 2293, 2301, 2322, 2341, 2568, 8817, 12286, 9524, 11668, 12169, 10218, 9388, 9188, 9524 ]\n",
    "data_merged_west = data_merged[data_merged.StoreID.isin(west_stores)]"
   ]
  },
  {
   "cell_type": "code",
   "execution_count": 63,
   "metadata": {},
   "outputs": [],
   "source": [
    "compartive_period_west = data_merged_west.query('Week > 12 & Week < 25')\n",
    "test_period_west = data_merged_west.query('Week >64 & Week < 77')"
   ]
  },
  {
   "cell_type": "markdown",
   "metadata": {},
   "source": [
    "#### Time Comparison Plot (West)"
   ]
  },
  {
   "cell_type": "code",
   "execution_count": 64,
   "metadata": {},
   "outputs": [
    {
     "data": {
      "text/plain": [
       "Text(0.5, 1.0, 'Gross Margin during Comparative Period - West')"
      ]
     },
     "execution_count": 64,
     "metadata": {},
     "output_type": "execute_result"
    },
    {
     "data": {
      "image/png": "[encoded data removed]",
      "text/plain": [
       "<Figure size 1440x360 with 2 Axes>"
      ]
     },
     "metadata": {},
     "output_type": "display_data"
    }
   ],
   "source": [
    "plt.figure(figsize =[20,5] )\n",
    "\n",
    "plt.subplot(1,2,2)\n",
    "ax2 = sns.lineplot(data = test_period_west, x = 'Week_Start', y=\"Gross_Margin\", hue = 'Group')\n",
    "ax2.set(xlabel='Date', ylabel='Gross Margin')\n",
    "plt.xticks(rotation=30)\n",
    "plt.title('Gross Margin during Test Period - West')\n",
    "\n",
    "\n",
    "plt.subplot(1,2,1, sharey = ax2)\n",
    "ax1 = sns.lineplot(data = compartive_period_west, x = 'Week_Start', y=\"Gross_Margin\", hue = 'Group')\n",
    "ax1.set(xlabel='Date', ylabel='Gross Margin')\n",
    "plt.xticks(rotation=30)\n",
    "plt.title('Gross Margin during Comparative Period - West')"
   ]
  },
  {
   "cell_type": "markdown",
   "metadata": {},
   "source": [
    "####  T - test (West)"
   ]
  },
  {
   "cell_type": "code",
   "execution_count": 65,
   "metadata": {},
   "outputs": [
    {
     "data": {
      "text/plain": [
       "Group\n",
       "control      1573.117348\n",
       "treatment    1917.599400\n",
       "Name: Gross_Margin, dtype: float64"
      ]
     },
     "execution_count": 65,
     "metadata": {},
     "output_type": "execute_result"
    }
   ],
   "source": [
    "test_period_west.groupby('Group')['Gross_Margin'].mean()"
   ]
  },
  {
   "cell_type": "code",
   "execution_count": 66,
   "metadata": {
    "scrolled": true
   },
   "outputs": [
    {
     "data": {
      "text/plain": [
       "Text(0, 0.5, 'Average Gross Margin')"
      ]
     },
     "execution_count": 66,
     "metadata": {},
     "output_type": "execute_result"
    },
    {
     "data": {
      "image/png": "[encoded data removed]",
      "text/plain": [
       "<Figure size 432x288 with 1 Axes>"
      ]
     },
     "metadata": {},
     "output_type": "display_data"
    }
   ],
   "source": [
    "sns.barplot(data = test_period_west, x = 'Group', y = 'Gross_Margin', color = base_color)\n",
    "plt.title('Average Gross Margin per Week during the Test Period - West')\n",
    "plt.ylabel('Average Gross Margin')"
   ]
  },
  {
   "cell_type": "code",
   "execution_count": 67,
   "metadata": {},
   "outputs": [
    {
     "data": {
      "text/plain": [
       "Ttest_indResult(statistic=-3.870869402972576, pvalue=0.00020225306382460874)"
      ]
     },
     "execution_count": 67,
     "metadata": {},
     "output_type": "execute_result"
    }
   ],
   "source": [
    "# T-test for \"Average Gross Margin - West\"\n",
    "from scipy import stats\n",
    "stats.ttest_ind(test_period_west.query('Group == \"control\"')['Gross_Margin'] , test_period_west.query('Group == \"treatment\"')['Gross_Margin'] , equal_var = False)"
   ]
  },
  {
   "cell_type": "markdown",
   "metadata": {},
   "source": [
    "### Overall (Central + West)"
   ]
  },
  {
   "cell_type": "code",
   "execution_count": 68,
   "metadata": {},
   "outputs": [],
   "source": [
    "data_merged_overall = data_merged[data_merged.StoreID.isin(west_stores)| data_merged.StoreID.isin(central_stores)]\n",
    "compartive_period_overall = data_merged_overall.query('Week > 12 & Week < 25')\n",
    "test_period_overall= data_merged_overall.query('Week >64 & Week < 77')"
   ]
  },
  {
   "cell_type": "code",
   "execution_count": 69,
   "metadata": {
    "scrolled": true
   },
   "outputs": [
    {
     "data": {
      "text/plain": [
       "Text(0.5, 1.0, 'Gross Margin during Comparative Period - Overall')"
      ]
     },
     "execution_count": 69,
     "metadata": {},
     "output_type": "execute_result"
    },
    {
     "data": {
      "image/png": "[encoded data removed]",
      "text/plain": [
       "<Figure size 1440x360 with 2 Axes>"
      ]
     },
     "metadata": {},
     "output_type": "display_data"
    }
   ],
   "source": [
    "plt.figure(figsize =[20,5] )\n",
    "\n",
    "plt.subplot(1,2,2)\n",
    "ax2 = sns.lineplot(data = test_period_overall, x = 'Week_Start', y=\"Gross_Margin\", hue = 'Group')\n",
    "ax2.set(xlabel='Date', ylabel='Gross Margin')\n",
    "plt.xticks(rotation=30)\n",
    "plt.title('Gross Margin during Test Period - Overall')\n",
    "\n",
    "\n",
    "plt.subplot(1,2,1, sharey = ax2)\n",
    "ax1 = sns.lineplot(data = compartive_period_overall, x = 'Week_Start', y=\"Gross_Margin\", hue = 'Group')\n",
    "ax1.set(xlabel='Date', ylabel='Gross Margin')\n",
    "plt.xticks(rotation=30)\n",
    "plt.title('Gross Margin during Comparative Period - Overall')"
   ]
  },
  {
   "cell_type": "markdown",
   "metadata": {},
   "source": [
    "####  T - test (Central + West)"
   ]
  },
  {
   "cell_type": "code",
   "execution_count": 70,
   "metadata": {},
   "outputs": [
    {
     "data": {
      "text/plain": [
       "Group\n",
       "control      1756.411301\n",
       "treatment    2223.720854\n",
       "Name: Gross_Margin, dtype: float64"
      ]
     },
     "execution_count": 70,
     "metadata": {},
     "output_type": "execute_result"
    }
   ],
   "source": [
    "test_period_overall.groupby('Group')['Gross_Margin'].mean()"
   ]
  },
  {
   "cell_type": "code",
   "execution_count": 71,
   "metadata": {},
   "outputs": [
    {
     "data": {
      "text/plain": [
       "Text(0, 0.5, 'Average Gross Margin')"
      ]
     },
     "execution_count": 71,
     "metadata": {},
     "output_type": "execute_result"
    },
    {
     "data": {
      "image/png": "[encoded data removed]",
      "text/plain": [
       "<Figure size 432x288 with 1 Axes>"
      ]
     },
     "metadata": {},
     "output_type": "display_data"
    }
   ],
   "source": [
    "sns.barplot(data = test_period_overall, x = 'Group', y = 'Gross_Margin', color = base_color)\n",
    "plt.title('Average Gross Margin per Week during the Test Period - Overall')\n",
    "plt.ylabel('Average Gross Margin')"
   ]
  },
  {
   "cell_type": "code",
   "execution_count": 72,
   "metadata": {},
   "outputs": [
    {
     "data": {
      "text/plain": [
       "Ttest_indResult(statistic=-5.203786969045747, pvalue=5.286829028678395e-07)"
      ]
     },
     "execution_count": 72,
     "metadata": {},
     "output_type": "execute_result"
    }
   ],
   "source": [
    "stats.ttest_ind(test_period_overall.query('Group == \"control\"')['Gross_Margin'] , test_period_overall.query('Group == \"treatment\"')['Gross_Margin'] , equal_var = False)"
   ]
  },
  {
   "cell_type": "markdown",
   "metadata": {},
   "source": [
    "## Conclusion"
   ]
  },
  {
   "cell_type": "markdown",
   "metadata": {},
   "source": [
    "> According to the A/B Test Comparisons, the gross margin of the treatment stores in Central and West regions showed 30.42% and 21.9% growth at a significance level of 99.99% and 99.98% over the control stores, respectively. The expected impact of gross margin per week from Central region is USD 590.13, higher than that from West: USD 344.5. In both regions, the time comparison plots apparently show the improved sales trend after the implementation of the test. The treatment and control units have roughly similar sales during the comparative period on the left, but after the experiment began, there was a considerable increase in the profits of the treatment stores.\n",
    "The overall average lift as a result from launching the updated offerings would be 26.61% per store per week, approximately USD 467.309 increasing per unit per week. Introducing the new menu would improve the weekly gross margin, higher than 18% which is the cut-off that the management suggested, thus the company should roll out the new menu to all stores."
   ]
  }
 ],
 "metadata": {
  "kernelspec": {
   "display_name": "Python 3",
   "language": "python",
   "name": "python3"
  },
  "language_info": {
   "codemirror_mode": {
    "name": "ipython",
    "version": 3
   },
   "file_extension": ".py",
   "mimetype": "text/x-python",
   "name": "python",
   "nbconvert_exporter": "python",
   "pygments_lexer": "ipython3",
   "version": "3.7.6"
  }
 },
 "nbformat": 4,
 "nbformat_minor": 4
}
