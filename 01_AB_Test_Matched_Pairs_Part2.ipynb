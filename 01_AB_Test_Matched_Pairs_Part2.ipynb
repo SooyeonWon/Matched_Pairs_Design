{
 "cells": [
  {
   "cell_type": "markdown",
   "metadata": {},
   "source": [
    "# Project: A/B Test a New Menu Launch\n",
    "\n",
    "### by Sooyeon Won\n",
    "\n",
    "### Keywords\n",
    "- Analytical Framework\n",
    "- Data Exploration \n",
    "- Control Variables  Selection for A/B test Design\n",
    "- Data Visualization"
   ]
  },
  {
   "cell_type": "markdown",
   "metadata": {},
   "source": [
    "## Table of Contents\n",
    "<ul>\n",
    "<li><a href=\"#Intro\">Introduction (Part1)</a></li>\n",
    "<li><a href=\"#Wrangling\">Data Wrangling (Part1)</a></li>\n",
    "<li><a href=\"#Exploration\">Data Exploration (Part2)</a></li>\n",
    "<li><a href=\"#Analysis\">Data Analysis (Part3)</a></li>\n",
    "<li><a href=\"#Conclusion\">Conclusion (Part3)</a></li>\n",
    "</ul>"
   ]
  },
  {
   "cell_type": "markdown",
   "metadata": {},
   "source": [
    "## Datasets from the Analysis Part 1"
   ]
  },
  {
   "cell_type": "code",
   "execution_count": 1,
   "metadata": {},
   "outputs": [],
   "source": [
    "# Import the relevant libraries \n",
    "import pandas as pd\n",
    "import numpy as np\n",
    "from sklearn import preprocessing\n",
    "import matplotlib.pyplot as plt \n",
    "plt.rc(\"font\", size=14)\n",
    "from sklearn.linear_model import LogisticRegression\n",
    "from sklearn.model_selection import train_test_split\n",
    "import seaborn as sns\n",
    "sns.set()\n",
    "sns.set(style=\"whitegrid\", color_codes=True)"
   ]
  },
  {
   "cell_type": "code",
   "execution_count": 2,
   "metadata": {},
   "outputs": [],
   "source": [
    "# Load the provided datasets\n",
    "traffic_df = pd.read_csv('traffic_df.csv')\n",
    "weekly_sales_df = pd.read_csv('weekly_sales_df.csv')\n",
    "stores_df = pd.read_csv('stores_df.csv')"
   ]
  },
  {
   "cell_type": "markdown",
   "metadata": {},
   "source": [
    "<a id='Exploration'></a>\n",
    "## Data Exploration with Visualizations"
   ]
  },
  {
   "cell_type": "code",
   "execution_count": 3,
   "metadata": {},
   "outputs": [],
   "source": [
    "# Combine all the datasets\n",
    "weekly_merged= traffic_df.merge(weekly_sales_df, how= 'inner', left_on=['StoreID','Week', 'Week_Start', 'Week_End'], right_on=['StoreID','Week', 'Week_Start', 'Week_End'])\n",
    "data_merged = weekly_merged.merge(stores_df, how = 'inner', left_on = 'StoreID', right_on = 'StoreID')"
   ]
  },
  {
   "cell_type": "code",
   "execution_count": 4,
   "metadata": {},
   "outputs": [
    {
     "data": {
      "text/html": [
       "<div>\n",
       "<style scoped>\n",
       "    .dataframe tbody tr th:only-of-type {\n",
       "        vertical-align: middle;\n",
       "    }\n",
       "\n",
       "    .dataframe tbody tr th {\n",
       "        vertical-align: top;\n",
       "    }\n",
       "\n",
       "    .dataframe thead th {\n",
       "        text-align: right;\n",
       "    }\n",
       "</style>\n",
       "<table border=\"1\" class=\"dataframe\">\n",
       "  <thead>\n",
       "    <tr style=\"text-align: right;\">\n",
       "      <th></th>\n",
       "      <th>StoreID</th>\n",
       "      <th>Week</th>\n",
       "      <th>Week_Start</th>\n",
       "      <th>Week_End</th>\n",
       "      <th>Invoice_Number</th>\n",
       "      <th>Gross_Margin</th>\n",
       "      <th>Sales</th>\n",
       "      <th>Sq_Ft</th>\n",
       "      <th>AvgMonthSales</th>\n",
       "      <th>Name</th>\n",
       "      <th>City</th>\n",
       "      <th>State</th>\n",
       "      <th>Region</th>\n",
       "      <th>Group</th>\n",
       "    </tr>\n",
       "  </thead>\n",
       "  <tbody>\n",
       "    <tr>\n",
       "      <th>0</th>\n",
       "      <td>1508</td>\n",
       "      <td>1</td>\n",
       "      <td>2015-02-06</td>\n",
       "      <td>2015-02-12</td>\n",
       "      <td>183</td>\n",
       "      <td>1429.4390</td>\n",
       "      <td>3124.61</td>\n",
       "      <td>1457</td>\n",
       "      <td>12000</td>\n",
       "      <td>3219 8th Street SW - Altoona</td>\n",
       "      <td>Altoona</td>\n",
       "      <td>IA</td>\n",
       "      <td>Central</td>\n",
       "      <td>control</td>\n",
       "    </tr>\n",
       "    <tr>\n",
       "      <th>1</th>\n",
       "      <td>1508</td>\n",
       "      <td>2</td>\n",
       "      <td>2015-02-13</td>\n",
       "      <td>2015-02-19</td>\n",
       "      <td>273</td>\n",
       "      <td>2031.2580</td>\n",
       "      <td>4360.54</td>\n",
       "      <td>1457</td>\n",
       "      <td>12000</td>\n",
       "      <td>3219 8th Street SW - Altoona</td>\n",
       "      <td>Altoona</td>\n",
       "      <td>IA</td>\n",
       "      <td>Central</td>\n",
       "      <td>control</td>\n",
       "    </tr>\n",
       "    <tr>\n",
       "      <th>2</th>\n",
       "      <td>1508</td>\n",
       "      <td>3</td>\n",
       "      <td>2015-02-20</td>\n",
       "      <td>2015-02-26</td>\n",
       "      <td>153</td>\n",
       "      <td>1022.0430</td>\n",
       "      <td>2217.27</td>\n",
       "      <td>1457</td>\n",
       "      <td>12000</td>\n",
       "      <td>3219 8th Street SW - Altoona</td>\n",
       "      <td>Altoona</td>\n",
       "      <td>IA</td>\n",
       "      <td>Central</td>\n",
       "      <td>control</td>\n",
       "    </tr>\n",
       "    <tr>\n",
       "      <th>3</th>\n",
       "      <td>1508</td>\n",
       "      <td>4</td>\n",
       "      <td>2015-02-27</td>\n",
       "      <td>2015-03-05</td>\n",
       "      <td>210</td>\n",
       "      <td>1372.2495</td>\n",
       "      <td>2996.95</td>\n",
       "      <td>1457</td>\n",
       "      <td>12000</td>\n",
       "      <td>3219 8th Street SW - Altoona</td>\n",
       "      <td>Altoona</td>\n",
       "      <td>IA</td>\n",
       "      <td>Central</td>\n",
       "      <td>control</td>\n",
       "    </tr>\n",
       "    <tr>\n",
       "      <th>4</th>\n",
       "      <td>1508</td>\n",
       "      <td>5</td>\n",
       "      <td>2015-03-06</td>\n",
       "      <td>2015-03-12</td>\n",
       "      <td>239</td>\n",
       "      <td>1698.8590</td>\n",
       "      <td>3704.73</td>\n",
       "      <td>1457</td>\n",
       "      <td>12000</td>\n",
       "      <td>3219 8th Street SW - Altoona</td>\n",
       "      <td>Altoona</td>\n",
       "      <td>IA</td>\n",
       "      <td>Central</td>\n",
       "      <td>control</td>\n",
       "    </tr>\n",
       "  </tbody>\n",
       "</table>\n",
       "</div>"
      ],
      "text/plain": [
       "   StoreID  Week  Week_Start    Week_End  Invoice_Number  Gross_Margin  \\\n",
       "0     1508     1  2015-02-06  2015-02-12             183     1429.4390   \n",
       "1     1508     2  2015-02-13  2015-02-19             273     2031.2580   \n",
       "2     1508     3  2015-02-20  2015-02-26             153     1022.0430   \n",
       "3     1508     4  2015-02-27  2015-03-05             210     1372.2495   \n",
       "4     1508     5  2015-03-06  2015-03-12             239     1698.8590   \n",
       "\n",
       "     Sales  Sq_Ft  AvgMonthSales                          Name     City State  \\\n",
       "0  3124.61   1457          12000  3219 8th Street SW - Altoona  Altoona    IA   \n",
       "1  4360.54   1457          12000  3219 8th Street SW - Altoona  Altoona    IA   \n",
       "2  2217.27   1457          12000  3219 8th Street SW - Altoona  Altoona    IA   \n",
       "3  2996.95   1457          12000  3219 8th Street SW - Altoona  Altoona    IA   \n",
       "4  3704.73   1457          12000  3219 8th Street SW - Altoona  Altoona    IA   \n",
       "\n",
       "    Region    Group  \n",
       "0  Central  control  \n",
       "1  Central  control  \n",
       "2  Central  control  \n",
       "3  Central  control  \n",
       "4  Central  control  "
      ]
     },
     "execution_count": 4,
     "metadata": {},
     "output_type": "execute_result"
    }
   ],
   "source": [
    "data_merged.head() # Glance at the dataset(1)"
   ]
  },
  {
   "cell_type": "code",
   "execution_count": 5,
   "metadata": {},
   "outputs": [
    {
     "name": "stdout",
     "output_type": "stream",
     "text": [
      "<class 'pandas.core.frame.DataFrame'>\n",
      "Int64Index: 10868 entries, 0 to 10867\n",
      "Data columns (total 14 columns):\n",
      " #   Column          Non-Null Count  Dtype  \n",
      "---  ------          --------------  -----  \n",
      " 0   StoreID         10868 non-null  int64  \n",
      " 1   Week            10868 non-null  int64  \n",
      " 2   Week_Start      10868 non-null  object \n",
      " 3   Week_End        10868 non-null  object \n",
      " 4   Invoice_Number  10868 non-null  int64  \n",
      " 5   Gross_Margin    10868 non-null  float64\n",
      " 6   Sales           10868 non-null  float64\n",
      " 7   Sq_Ft           10868 non-null  int64  \n",
      " 8   AvgMonthSales   10868 non-null  int64  \n",
      " 9   Name            10868 non-null  object \n",
      " 10  City            10868 non-null  object \n",
      " 11  State           10868 non-null  object \n",
      " 12  Region          10868 non-null  object \n",
      " 13  Group           10868 non-null  object \n",
      "dtypes: float64(2), int64(5), object(7)\n",
      "memory usage: 1.2+ MB\n"
     ]
    }
   ],
   "source": [
    "data_merged.info() # Glance at the dataset(2)"
   ]
  },
  {
   "cell_type": "markdown",
   "metadata": {},
   "source": [
    "> As mentioned earlier, profits are represented by \"gross margins\". Therefore, **'Gross_Margin'** is supposed to be the response variable in this analysis. \n",
    "> Potential control variables are as follows: \n",
    ">1. Categorical variables: \"Region\", \"State\", \"City\" \n",
    ">2. Numeric Variable: \"Sq_Ft\", \"AvgMonthSales\"\n",
    ">3. **Invoice_Number:** The invoice count per week which represent weekly foot traffic, will be used as the performance metric. \n",
    ">4. **Sales:** It represents product sales amounts. Very often, it is also used for a key performance indicator as traffic. However, in this analysis, I set the performance metric as the weekly invoice count only. \n"
   ]
  },
  {
   "cell_type": "markdown",
   "metadata": {},
   "source": [
    "### 1. Relationship between Sales and Profits "
   ]
  },
  {
   "cell_type": "code",
   "execution_count": 6,
   "metadata": {
    "scrolled": true
   },
   "outputs": [
    {
     "data": {
      "text/plain": [
       "Text(0, 0.5, 'Profits (Gross Margins) per Week in USD')"
      ]
     },
     "execution_count": 6,
     "metadata": {},
     "output_type": "execute_result"
    },
    {
     "data": {
      "image/png": "[encoded data removed]",
      "text/plain": [
       "<Figure size 432x288 with 1 Axes>"
      ]
     },
     "metadata": {},
     "output_type": "display_data"
    }
   ],
   "source": [
    "plt.scatter(data = data_merged, x= 'Sales', y = 'Gross_Margin')\n",
    "plt.xlabel('Sales per Week in USD')\n",
    "plt.ylabel('Profits (Gross Margins) per Week in USD')"
   ]
  },
  {
   "cell_type": "code",
   "execution_count": 7,
   "metadata": {},
   "outputs": [
    {
     "name": "stdout",
     "output_type": "stream",
     "text": [
      "The correlation value between Sales and Gross Margin:  0.998\n"
     ]
    }
   ],
   "source": [
    "corr_= data_merged.Sales.corr(data_merged.Gross_Margin).round(3)\n",
    "print ('The correlation value between Sales and Gross Margin: ', corr_)"
   ]
  },
  {
   "cell_type": "markdown",
   "metadata": {},
   "source": [
    "> Sales are strongly & postively correlated with Gross Margin. Its correlation value is 0.998, which is highly close to one. Since \"Gross Margin\" represents \"Profit\" which is the evaluation metric for business decision, I continue the analysis with \"Gross Margin\" variable, instead of \"Sales\"."
   ]
  },
  {
   "cell_type": "markdown",
   "metadata": {},
   "source": [
    "### 2. Categorical  Control Variables: Region, State, City\n",
    "### 2-1 Region\n",
    "Does \"region\" impact on Sales? In other words. did the demographics around stores in the east region results in differing sales trend than in other regions? If yes, the assumption is the region does create differences in store performance. In this case, we should take into account the variable. Otherwise we do not need to group the stores into regions. "
   ]
  },
  {
   "cell_type": "code",
   "execution_count": 8,
   "metadata": {
    "scrolled": true
   },
   "outputs": [
    {
     "data": {
      "text/plain": [
       "Text(0.5, 1.0, 'Gross Margin Comparision ')"
      ]
     },
     "execution_count": 8,
     "metadata": {},
     "output_type": "execute_result"
    },
    {
     "data": {
      "image/png": "[encoded data removed]",
      "text/plain": [
       "<Figure size 432x288 with 1 Axes>"
      ]
     },
     "metadata": {},
     "output_type": "display_data"
    }
   ],
   "source": [
    "# Average gross margin between two regions. \n",
    "plt.figure(figsize=[6,4])\n",
    "base_color = sns.color_palette()[0]\n",
    "sns.barplot(data = data_merged, x = 'Region', y = 'Gross_Margin',color = base_color)\n",
    "plt.ylabel('Weekly Gross Margin on Average')\n",
    "plt.title('Gross Margin Comparision ')"
   ]
  },
  {
   "cell_type": "code",
   "execution_count": 9,
   "metadata": {},
   "outputs": [],
   "source": [
    "from scipy import stats\n",
    "region_test=data_merged.copy()\n",
    "west= region_test.query('Region ==\"West\"') \n",
    "central = region_test.query('Region != \"West\"') "
   ]
  },
  {
   "cell_type": "code",
   "execution_count": 10,
   "metadata": {},
   "outputs": [
    {
     "data": {
      "text/plain": [
       "Ttest_indResult(statistic=12.098867103647965, pvalue=2.096756707314455e-33)"
      ]
     },
     "execution_count": 10,
     "metadata": {},
     "output_type": "execute_result"
    }
   ],
   "source": [
    "# T-test for \"Average Month Sales\"\n",
    "stats.ttest_ind(west.Gross_Margin , central.Gross_Margin , equal_var = False)"
   ]
  },
  {
   "cell_type": "code",
   "execution_count": 11,
   "metadata": {},
   "outputs": [
    {
     "data": {
      "text/plain": [
       "Ttest_indResult(statistic=11.606284451586799, pvalue=6.864356567474948e-31)"
      ]
     },
     "execution_count": 11,
     "metadata": {},
     "output_type": "execute_result"
    }
   ],
   "source": [
    "# T-test for \"Average Month Sales\"\n",
    "stats.ttest_ind(west.Sales , central.Sales , equal_var = False)"
   ]
  },
  {
   "cell_type": "markdown",
   "metadata": {},
   "source": [
    ">- The T-tests results show that the mean difference of Average Month Sales is statistically significant, with the alpha level 0.05. This indicates that the region has an impact on sales. We should take into account the variable for AB Test.\n",
    ">- Note that discrete variables can not be used to match treatments to controls directly. To accommodate discrete variables, treatment units need to be matched with the control units that share a discrete characteristics. In other words, matching treatments to controls for each region separately to ensure the best results."
   ]
  },
  {
   "cell_type": "markdown",
   "metadata": {},
   "source": [
    "### 2-2 States"
   ]
  },
  {
   "cell_type": "code",
   "execution_count": 12,
   "metadata": {},
   "outputs": [
    {
     "data": {
      "text/plain": [
       "array(['IL', 'CO'], dtype=object)"
      ]
     },
     "execution_count": 12,
     "metadata": {},
     "output_type": "execute_result"
    }
   ],
   "source": [
    "# There are only two different states. \n",
    "stores_df.query('Group ==\"treatment\"').State.unique()"
   ]
  },
  {
   "cell_type": "code",
   "execution_count": 13,
   "metadata": {},
   "outputs": [],
   "source": [
    "# Filter the datapoints either its State is IL or CO.\n",
    "compare_state=data_merged.query('State ==\"IL\" | State ==\"CO\"') \n",
    "stores_state = stores_df.query('State ==\"IL\" | State ==\"CO\"') "
   ]
  },
  {
   "cell_type": "code",
   "execution_count": 14,
   "metadata": {
    "scrolled": false
   },
   "outputs": [
    {
     "data": {
      "text/plain": [
       "Text(0.5, 1.0, 'Average Profits Comparison between States')"
      ]
     },
     "execution_count": 14,
     "metadata": {},
     "output_type": "execute_result"
    },
    {
     "data": {
      "image/png": "[encoded data removed]",
      "text/plain": [
       "<Figure size 432x288 with 1 Axes>"
      ]
     },
     "metadata": {},
     "output_type": "display_data"
    }
   ],
   "source": [
    "base_color = sns.color_palette()[0]\n",
    "plt.figure(figsize=[6,4])\n",
    "sns.barplot(data = compare_state, x = 'State', y = 'Gross_Margin',color = base_color)\n",
    "plt.ylabel('Average Gross Margin per Week')\n",
    "plt.title('Average Profits Comparison between States')"
   ]
  },
  {
   "cell_type": "code",
   "execution_count": 15,
   "metadata": {},
   "outputs": [],
   "source": [
    "state_test=data_merged.copy()\n",
    "IL= state_test.query('State ==\"IL\"') \n",
    "CO= state_test.query('State ==\"CO\"') "
   ]
  },
  {
   "cell_type": "code",
   "execution_count": 16,
   "metadata": {},
   "outputs": [
    {
     "data": {
      "text/plain": [
       "Ttest_indResult(statistic=-0.2777643595263143, pvalue=0.7812129176855382)"
      ]
     },
     "execution_count": 16,
     "metadata": {},
     "output_type": "execute_result"
    }
   ],
   "source": [
    "# T-test for \"Average Month Gross Margin\"\n",
    "stats.ttest_ind(IL.Gross_Margin , CO.Gross_Margin , equal_var = False)"
   ]
  },
  {
   "cell_type": "code",
   "execution_count": 17,
   "metadata": {},
   "outputs": [
    {
     "data": {
      "text/plain": [
       "Ttest_indResult(statistic=-0.17907113178752485, pvalue=0.8578944322702904)"
      ]
     },
     "execution_count": 17,
     "metadata": {},
     "output_type": "execute_result"
    }
   ],
   "source": [
    "# T-test for \"Average Month Sales\"\n",
    "stats.ttest_ind(IL.Sales , CO.Sales , equal_var = False)"
   ]
  },
  {
   "cell_type": "markdown",
   "metadata": {},
   "source": [
    "> The barplot shows that there is no significant differene on average profits between the two States. The following T-test supports the results that the mean differences of Gross Margin and Sales are **NOT** statistically significant, with the alpha level 0.05. This indicates that the categorical variable 'State' does not have an impact on Gross Margin and Sales . We do not need to group our stores based on its state."
   ]
  },
  {
   "cell_type": "markdown",
   "metadata": {},
   "source": [
    "### 2-3 City "
   ]
  },
  {
   "cell_type": "code",
   "execution_count": 18,
   "metadata": {},
   "outputs": [
    {
     "data": {
      "text/plain": [
       "array(['Barrington', 'Mount Prospect', 'Schaumburg', 'Oakbrook Terrace',\n",
       "       'Orland Park', 'Aurora', 'Westminster', 'Denver', 'Boulder'],\n",
       "      dtype=object)"
      ]
     },
     "execution_count": 18,
     "metadata": {},
     "output_type": "execute_result"
    }
   ],
   "source": [
    "# Check which cities the dataset contains. \n",
    "stores_df.query('Group ==\"treatment\"').City.unique()"
   ]
  },
  {
   "cell_type": "code",
   "execution_count": 19,
   "metadata": {},
   "outputs": [],
   "source": [
    "compare_city=data_merged.query('City ==\"Barrington\" | City ==\"Mount Prospect\"| City == \"Schaumburg\" | City == \"Oakbrook Terrace\"| City == \"Orland Park\" | City ==\"Aurora\" | City ==\"Westminster\" | City == \"Denver\"| City ==\"Boulder\"')\n",
    "stores_city=stores_df.query('City ==\"Barrington\" | City ==\"Mount Prospect\"| City == \"Schaumburg\" | City == \"Oakbrook Terrace\"| City == \"Orland Park\" | City ==\"Aurora\" | City ==\"Westminster\" | City == \"Denver\"| City ==\"Boulder\"')"
   ]
  },
  {
   "cell_type": "code",
   "execution_count": 20,
   "metadata": {
    "scrolled": false
   },
   "outputs": [
    {
     "data": {
      "text/plain": [
       "(array([0, 1, 2, 3, 4, 5, 6, 7, 8]),\n",
       " [Text(0, 0, 'Barrington'),\n",
       "  Text(1, 0, 'Mount Prospect'),\n",
       "  Text(2, 0, 'Schaumburg'),\n",
       "  Text(3, 0, 'Oakbrook Terrace'),\n",
       "  Text(4, 0, 'Orland Park'),\n",
       "  Text(5, 0, 'Aurora'),\n",
       "  Text(6, 0, 'Westminster'),\n",
       "  Text(7, 0, 'Denver'),\n",
       "  Text(8, 0, 'Boulder')])"
      ]
     },
     "execution_count": 20,
     "metadata": {},
     "output_type": "execute_result"
    },
    {
     "data": {
      "image/png": "[encoded data removed]",
      "text/plain": [
       "<Figure size 432x288 with 1 Axes>"
      ]
     },
     "metadata": {},
     "output_type": "display_data"
    }
   ],
   "source": [
    "# Check how many stores are located in each city. \n",
    "plt.figure(figsize=[6,4])\n",
    "sns.countplot(data = stores_city, x = 'City',color = base_color)\n",
    "plt.ylabel('Monthly Sales on Average')\n",
    "plt.title('Average Sales Comparison between Cities')\n",
    "plt.xticks(rotation =30)"
   ]
  },
  {
   "cell_type": "markdown",
   "metadata": {},
   "source": [
    "> Only in Denver, six stores are located. There is only one store in other cities."
   ]
  },
  {
   "cell_type": "code",
   "execution_count": null,
   "metadata": {},
   "outputs": [
    {
     "data": {
      "text/plain": [
       "(array([0, 1, 2, 3, 4, 5, 6, 7, 8]),\n",
       " [Text(0, 0, 'Barrington'),\n",
       "  Text(1, 0, 'Mount Prospect'),\n",
       "  Text(2, 0, 'Schaumburg'),\n",
       "  Text(3, 0, 'Oakbrook Terrace'),\n",
       "  Text(4, 0, 'Orland Park'),\n",
       "  Text(5, 0, 'Aurora'),\n",
       "  Text(6, 0, 'Westminster'),\n",
       "  Text(7, 0, 'Denver'),\n",
       "  Text(8, 0, 'Boulder')])"
      ]
     },
     "execution_count": 21,
     "metadata": {},
     "output_type": "execute_result"
    }
   ],
   "source": [
    "# Visualize the average profit per cities.\n",
    "plt.figure(figsize=[6,4])\n",
    "sns.barplot(data = compare_city, x = 'City', y = 'Gross_Margin',color = base_color)\n",
    "plt.ylabel('Average Gross Margin per Week')\n",
    "plt.title('Average Profits Comparison between Cities')\n",
    "plt.xticks(rotation =30)"
   ]
  },
  {
   "cell_type": "code",
   "execution_count": null,
   "metadata": {},
   "outputs": [],
   "source": [
    "city_test=data_merged.copy()\n",
    "Barrington= city_test.query('City ==\"Barrington\"') \n",
    "Mount_Prospect= city_test.query(' City ==\"Mount Prospect\"') \n",
    "Schaumburg = city_test.query('City == \"Schaumburg\"')\n",
    "Oakbrook_Terrace = city_test.query('City == \"Oakbrook Terrace\"')\n",
    "Orland_Park = city_test.query('City == \"Orland Park\"')\n",
    "Aurora= city_test.query('City ==\"Aurora\"')\n",
    "Denver = city_test.query('City ==\"Denver\"')\n",
    "Boulder= city_test.query('City ==\"Boulder\"')\n",
    "Westminster= city_test.query('City ==\"Westminster\"')"
   ]
  },
  {
   "cell_type": "code",
   "execution_count": null,
   "metadata": {
    "scrolled": true
   },
   "outputs": [],
   "source": [
    "from scipy.stats import f_oneway\n",
    "f_oneway(Barrington.Gross_Margin, Mount_Prospect.Gross_Margin, Schaumburg.Gross_Margin, Oakbrook_Terrace.Gross_Margin, Orland_Park.Gross_Margin, Aurora.Gross_Margin, Denver.Gross_Margin, Boulder.Gross_Margin, Westminster.Gross_Margin)"
   ]
  },
  {
   "cell_type": "markdown",
   "metadata": {},
   "source": [
    "> It seems that \"Oakbrook Terrace\" achieved the best performance in terms of gross margin. This fact is also supported by one-way analysis of variance (abbreviated one-way ANOVA) that at least one pair of stores is significantly different in terms of the average profits. ANOVA test is generally used to compare means of two or more samples (using the F distribution). The ANOVA tests the null hypothesis, which states that samples in all groups are drawn from populations with the same mean values. Remember that most cities have only one store. So it is not possible to find the stores that highly matched to the treatment stores. Thus, it is very unlikely to consider the variable \"City\" as a control variable. "
   ]
  },
  {
   "cell_type": "markdown",
   "metadata": {},
   "source": [
    "**Insights from Categorical Control Variables Analysis** <br> \n",
    "- Geographical variables\n",
    "The gross margins of each store can be differed from store location. Among all the location information in the dataset, I will consider the 'Region' as a proxy of store location, only. We do not need to consider 'State' as a control variable, because it turns that the mean differences of Gross Margin between the 2 states are NOT statistically significant. In other words, 'State' does not have an impact on Gross Margin. Although 'City' is in the same situation with 'Region', it is far less extended category. By controlling 'Region', we can still have more options to find control units when we match treatment units with them. \n",
    "- Timezone related variables in dataset do not show linear relationships with the gross margin variables. Thus, they are not taken into account as the candidates of control variables.\n"
   ]
  },
  {
   "cell_type": "markdown",
   "metadata": {},
   "source": [
    "### 3. Continuous Control Variables: Store Size, Average Monthly Sales"
   ]
  },
  {
   "cell_type": "markdown",
   "metadata": {},
   "source": [
    "> To check the strength of correlations between all the continuous variables, I visualized a heatmap, first. From the heatmap, we can easily recognize the correlation through its color and annotation."
   ]
  },
  {
   "cell_type": "code",
   "execution_count": null,
   "metadata": {},
   "outputs": [],
   "source": [
    "plt.figure(figsize=(6,4))\n",
    "col = ['Sq_Ft', 'AvgMonthSales','Gross_Margin']\n",
    "sns.heatmap(data_merged[col].corr(), annot = True,cmap=\"RdBu\", center=0, vmin=-1, vmax=1)"
   ]
  },
  {
   "cell_type": "code",
   "execution_count": null,
   "metadata": {},
   "outputs": [],
   "source": [
    "plt.figure(figsize=(8,6))\n",
    "plt.scatter(data = data_merged, x= 'AvgMonthSales', y = 'Gross_Margin')\n",
    "plt.ylabel('The Level of Weekly Gross Margin($)')\n",
    "plt.xlabel('The Level of Monthly Average Sales($)')\n",
    "plt.title('Scatter Plot of Average Sales and Gross Margin')"
   ]
  },
  {
   "cell_type": "markdown",
   "metadata": {},
   "source": [
    "- ‘AvgMonthSales’ is considered as a control variable, since it has a high correlation with ‘Gross Margin’, the performance metric in this analysis. As the heatmap plot and the correlation matrix show, the correlation between ‘AvgMonthSales’ and ‘Gross Margin per Week’ is high: 0.78. Thus, ‘AvgMonthSales’ should be controlled in the analysis.\n",
    "- On the other hand, the size of store('Sq_Ft') has almost zero correlation with 'Gross Margin'. Its correlation with ‘Gross Margin per Week’is -0.016. This indicates that the size of store does not have an influence on the gross profit of each store. So, it does not need to be considered as a control variable."
   ]
  }
 ],
 "metadata": {
  "kernelspec": {
   "display_name": "Python 3",
   "language": "python",
   "name": "python3"
  },
  "language_info": {
   "codemirror_mode": {
    "name": "ipython",
    "version": 3
   },
   "file_extension": ".py",
   "mimetype": "text/x-python",
   "name": "python",
   "nbconvert_exporter": "python",
   "pygments_lexer": "ipython3",
   "version": "3.7.6"
  }
 },
 "nbformat": 4,
 "nbformat_minor": 4
}
